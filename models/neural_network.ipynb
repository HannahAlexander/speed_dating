{
 "cells": [
  {
   "cell_type": "code",
   "execution_count": 1,
   "metadata": {},
   "outputs": [],
   "source": [
    "import sys\n",
    "sys.path.append(\"../\")\n",
    "from keras.models import Sequential\n",
    "from keras.layers import Dense, Activation\n",
    "from keras import layers\n",
    "import numpy as np\n",
    "import pandas as pd\n",
    "from sklearn.model_selection import train_test_split\n",
    "import src.preprocessing as pp\n"
   ]
  },
  {
   "cell_type": "code",
   "execution_count": 2,
   "metadata": {},
   "outputs": [],
   "source": [
    "identifiers = [\"date_id_a\", \"match_a\", \"wave_a\", \n",
    "\"date_id_b\",  \"wave_b\"]\n",
    "\n",
    "# same as 1_1\n",
    "#preference = [\"pf_o_att_a\", \"pf_o_sin_a\", \"pf_o_int_a\", \"pf_o_fun_a\", \"pf_o_amb_a\", \"pf_o_sha_a\", \n",
    "#\"pf_o_att_b\", \"pf_o_sin_b\", \"pf_o_int_b\", \"pf_o_fun_b\", \"pf_o_amb_b\", \"pf_o_sha_b\"]\n",
    "\n",
    "personal_info = [\"field_cd_a\", \"age_a\", \"race_a\", \"income_a\", \"zipcode_a\", \"samerace_a\", \"goal_a\",\n",
    "\"field_cd_b\", \"age_b\", \"race_b\", \"income_b\", \"zipcode_b\", \"goal_b\", \"distance_bin\", \"zipcode_area_b\", \"zipcode_area_a\"]\n",
    "\n",
    "behaviour = [\"go_out_a\", \"sports_a\", \"tvsports_a\", \"exercise_a\", \"dining_a\", \"museums_a\", \"art_a\", \"hiking_a\", \"gaming_a\",\n",
    "           \"clubbing_a\", \"reading_a\", \"tv_a\", \"theater_a\", \"movies_a\", \"concerts_a\", \"music_a\", \"shopping_a\",\n",
    "           \"yoga_a\", \"exphappy_a\",\n",
    "           \"go_out_b\", \"sports_b\", \"tvsports_b\", \"exercise_b\", \"dining_b\", \"museums_b\", \"art_b\", \"hiking_b\", \"gaming_b\",\n",
    "           \"clubbing_b\", \"reading_b\", \"tv_b\", \"theater_b\", \"movies_b\", \"concerts_b\", \"music_b\", \"shopping_b\",\n",
    "           \"yoga_b\", \"exphappy_b\"]\n",
    "\n",
    "difference_hobbies = [\"go_out_df\", \"sports_df\", \"tvsports_df\", \"exercise_df\", \"dining_df\", \"museums_df\", \"art_df\", \"hiking_df\", \"gaming_df\",\n",
    "           \"clubbing_df\", \"reading_df\", \"tv_df\", \"theater_df\", \"movies_df\", \"concerts_df\", \"music_df\", \"shopping_df\", \"yoga_df\", \"exphappy_df\"]\n",
    "\n",
    "hobbies_big_diff = [\"go_out_df_big\", \"sports_df_big\", \"tvsports_df_big\", \"exercise_df_big\", \"dining_df_big\", \"museums_df_big\", \"art_df_big\", \"hiking_df_big\", \"gaming_df_big\",\n",
    "           \"clubbing_df_big\", \"reading_df_big\", \"tv_df_big\", \"theater_df_big\", \"movies_df_big\", \"concerts_df_big\", \"music_df_big\", \"shopping_df_big\", \"yoga_df_big\", \"exphappy_df_big\"]\n",
    "\n",
    "looking_for = [\"attr1_1_a\", \"sinc1_1_a\", \"intel1_1_a\", \"fun1_1_a\", \"amb1_1_a\", \"imprace_a\", \"imprelig_a\",\n",
    "\"attr1_1_b\", \"sinc1_1_b\", \"intel1_1_b\", \"fun1_1_b\", \"amb1_1_b\", \"imprace_b\", \"imprelig_b\"]\n",
    "\n",
    "self_rating = [ \"attr3_1_a\", \"sinc3_1_a\", \"intel3_1_a\", \"fun3_1_a\", \"amb3_1_a\", \"attr3_1_b\", \"sinc3_1_b\", \"intel3_1_b\", \"fun3_1_b\", \"amb3_1_b\"]\n",
    "\n",
    "# difference between what person a i slooking for b what person a rates themselves 1_1_a and 3_1_b\n",
    "difference = [\"attr_b_a\", \"sinc_b_a\", \"intel_b_a\", \"fun_b_a\", \"amb_b_a\", \"attr_a_b\", \"sinc_a_b\", \"intel_a_b\", \"fun_a_b\", \"amb_a_b\"]\n",
    "\n",
    "to_drop = [\"date_id_a\", \"date_id_b\", \"wave_a\", \"wave_b\", \"zipcode_a\", \"zipcode_b\"] #TODO clean text in from column , \n",
    "\n",
    "to_keep = personal_info + identifiers + difference + hobbies_big_diff + difference_hobbies\n",
    "\n",
    "categorical = [\"income_a\", \"income_b\", \"distance_bin\", \"zipcode_area_a\", \"zipcode_area_b\"]\n"
   ]
  },
  {
   "cell_type": "code",
   "execution_count": 3,
   "metadata": {},
   "outputs": [
    {
     "data": {
      "text/plain": [
       "0.834248455730954"
      ]
     },
     "execution_count": 3,
     "metadata": {},
     "output_type": "execute_result"
    }
   ],
   "source": [
    "# read in data\n",
    "df = pd.read_csv(\"../data/interim/single_row_date.csv\")\n",
    "df = df[to_keep]\n",
    "df.drop(to_drop, axis = 1, inplace = True)\n",
    "\n",
    "x = df.match_a.value_counts()\n",
    "x[0]/(x[1]+x[0])"
   ]
  },
  {
   "cell_type": "code",
   "execution_count": 43,
   "metadata": {},
   "outputs": [],
   "source": [
    "df = pd.get_dummies(df, columns = categorical)\n",
    "# replace \"Not applicable\" with -1\n",
    "df.columns[df.isnull().any()].tolist()\n",
    "df.isnull().sum().sort_values(ascending=False).head(10)\n",
    "df.dropna(inplace=True)"
   ]
  },
  {
   "cell_type": "code",
   "execution_count": 44,
   "metadata": {},
   "outputs": [],
   "source": [
    "X = df[[column for column in df.columns if column!=\"match_a\"]]\n",
    "y = df[\"match_a\"]"
   ]
  },
  {
   "cell_type": "code",
   "execution_count": 45,
   "metadata": {},
   "outputs": [
    {
     "name": "stdout",
     "output_type": "stream",
     "text": [
      "(2000, 108) (2000,)\n",
      "(858, 108) (858,)\n",
      "baseline accuracy: 0.8333333333333334\n"
     ]
    }
   ],
   "source": [
    "# splitting the data into testing and training sets. 70% for training, 30% for testing\n",
    "X_train, X_test, y_train, y_test = train_test_split(\n",
    "    X, y, random_state=42, test_size=0.30, stratify=y, shuffle=True\n",
    ")\n",
    "\n",
    "print(X_train.shape, y_train.shape)\n",
    "print(X_test.shape, y_test.shape)\n",
    "\n",
    "print(\"baseline accuracy:\", (len(y_test)-sum(y_test))/len(y_test))"
   ]
  },
  {
   "cell_type": "code",
   "execution_count": 46,
   "metadata": {},
   "outputs": [],
   "source": [
    "# linear neural network\n",
    "def neuralNet(X_train, Y_train, X_test, Y_test):\n",
    "\n",
    "    input_dim = X_train.shape[1]\n",
    "\n",
    "    # define model\n",
    "    model = Sequential()\n",
    "    model.add(layers.Dense(10, input_dim=input_dim, activation='relu'))\n",
    "    model.add(layers.Dense(1, activation='sigmoid'))\n",
    "\n",
    "    # compile model\n",
    "    model.compile(loss='binary_crossentropy', optimizer='adam', metrics=['accuracy'])\n",
    "    model.summary()\n",
    "\n",
    "    # fit model to the training data\n",
    "    model.fit(X_train, Y_train, epochs=100, verbose=False, validation_data=(X_test, Y_test), batch_size=10)\n",
    "\n",
    "    # evaluate accuracies for train and test set\n",
    "    loss, accuracy = model.evaluate(X_train, Y_train, verbose=False)\n",
    "    print(\"Training Accuracy: {:.4f}\".format(accuracy))\n",
    "    loss, accuracy = model.evaluate(X_test, Y_test, verbose=False)\n",
    "    print(\"Testing Accuracy:  {:.4f}\".format(accuracy))\n",
    "\n",
    "    # predict on train dataset\n",
    "    Y_train_pred = model.predict(X_train)\n",
    "\n",
    "    # Predict the response for test dataset\n",
    "    Y_test_pred = model.predict(X_test)\n",
    "\n",
    "    # convert to class\n",
    "    threshold = 0.5\n",
    "    Y_train_pred = [1 if x >= threshold else 0 for x in Y_train_pred]\n",
    "    Y_test_pred = [1 if x >= threshold else 0 for x in Y_test_pred]\n",
    "\n",
    "    pp.scoring_func(y_test, Y_test_pred)\n",
    "\n",
    "    return model"
   ]
  },
  {
   "cell_type": "code",
   "execution_count": 47,
   "metadata": {},
   "outputs": [
    {
     "name": "stdout",
     "output_type": "stream",
     "text": [
      "Model: \"sequential_3\"\n",
      "_________________________________________________________________\n",
      " Layer (type)                Output Shape              Param #   \n",
      "=================================================================\n",
      " dense_6 (Dense)             (None, 10)                1090      \n",
      "                                                                 \n",
      " dense_7 (Dense)             (None, 1)                 11        \n",
      "                                                                 \n",
      "=================================================================\n",
      "Total params: 1,101\n",
      "Trainable params: 1,101\n",
      "Non-trainable params: 0\n",
      "_________________________________________________________________\n",
      "Training Accuracy: 0.8570\n",
      "Testing Accuracy:  0.8275\n",
      "63/63 [==============================] - 0s 952us/step\n",
      "27/27 [==============================] - 0s 821us/step\n",
      "Precision: 0.41935483870967744\n",
      "Recall: 0.09090909090909091\n",
      "Accuracy: 0.8275058275058275\n",
      "F1 Score: 0.14942528735632185\n"
     ]
    },
    {
     "data": {
      "text/plain": [
       "<keras.engine.sequential.Sequential at 0x2b12aa9df90>"
      ]
     },
     "execution_count": 47,
     "metadata": {},
     "output_type": "execute_result"
    },
    {
     "data": {
      "image/png": "[encoded data removed]",
      "text/plain": [
       "<Figure size 640x480 with 2 Axes>"
      ]
     },
     "metadata": {},
     "output_type": "display_data"
    }
   ],
   "source": [
    "neuralNet(X_train, y_train, X_test, y_test)"
   ]
  }
 ],
 "metadata": {
  "kernelspec": {
   "display_name": "speed_date_env",
   "language": "python",
   "name": "python3"
  },
  "language_info": {
   "codemirror_mode": {
    "name": "ipython",
    "version": 3
   },
   "file_extension": ".py",
   "mimetype": "text/x-python",
   "name": "python",
   "nbconvert_exporter": "python",
   "pygments_lexer": "ipython3",
   "version": "3.10.9"
  },
  "orig_nbformat": 4,
  "vscode": {
   "interpreter": {
    "hash": "152dae51d345ad1156800798093e8c9ddd454684d6e102f640f55bcab3f3eb11"
   }
  }
 },
 "nbformat": 4,
 "nbformat_minor": 2
}
