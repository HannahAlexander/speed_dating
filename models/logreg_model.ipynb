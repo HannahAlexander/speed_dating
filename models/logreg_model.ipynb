{
 "cells": [
  {
   "cell_type": "code",
   "execution_count": null,
   "metadata": {},
   "outputs": [],
   "source": [
    "# basic model\n",
    "import sys\n",
    "import random\n",
    "import numpy as np\n",
    "\n",
    "np.random.seed(10)\n",
    "\n",
    "sys.path.append(\"../\")\n",
    "import pandas as pd\n",
    "import os\n",
    "import matplotlib as plt\n",
    "import src.preprocessing as pp\n",
    "\n",
    "#import seaborn as sns\n",
    "from sklearn.metrics import confusion_matrix\n",
    "import sklearn.metrics as metrics\n",
    "from sklearn.model_selection import train_test_split\n",
    "from sklearn.linear_model import LogisticRegression\n",
    "import plotly.express as px\n",
    "from sklearn.metrics import (\n",
    "    accuracy_score,\n",
    "    classification_report,\n",
    "    confusion_matrix,\n",
    "    r2_score,\n",
    "    f1_score\n",
    ")\n",
    "from itertools import permutations\n",
    "from typing import List, Tuple\n",
    "\n",
    "# feature selection\n",
    "from sklearn.feature_selection import SelectKBest, mutual_info_classif, chi2\n",
    "\n",
    "from sklearn.preprocessing import OneHotEncoder\n",
    "from sklearn import preprocessing\n",
    "from sklearn.utils import resample"
   ]
  },
  {
   "cell_type": "code",
   "execution_count": null,
   "metadata": {},
   "outputs": [],
   "source": [
    "identifiers = [\"date_id_a\", \"match_a\", #\"wave_a\", \n",
    "\"date_id_b\"] #\"iid_b\", \"match_b\", , \"iid_a\", \"wave_b\"\n",
    "\n",
    "# same as 1_1\n",
    "#preference = [\"pf_o_att_a\", \"pf_o_sin_a\", \"pf_o_int_a\", \"pf_o_fun_a\", \"pf_o_amb_a\", \"pf_o_sha_a\", \n",
    "#\"pf_o_att_b\", \"pf_o_sin_b\", \"pf_o_int_b\", \"pf_o_fun_b\", \"pf_o_amb_b\", \"pf_o_sha_b\"]\n",
    "\n",
    "personal_info = [\"field_cd_a\", \"age_a\", \"race_a\", \"income_a\", \"zipcode_area_a\", \"samerace_a\", \"goal_a\",\n",
    "\"field_cd_b\", \"age_b\", \"race_b\", \"income_b\", \"zipcode_area_b\", \"goal_b\", \"distance_bin\", \"gender_a\", \"gender_b\"] # \"samerace_b\",\n",
    "\n",
    "behaviour = [\"go_out_a\", \"sports_a\", \"tvsports_a\", \"exercise_a\", \"dining_a\", \"museums_a\", \"art_a\", \"hiking_a\", \"gaming_a\",\n",
    "           \"clubbing_a\", \"reading_a\", \"tv_a\", \"theater_a\", \"movies_a\", \"concerts_a\", \"music_a\", \"shopping_a\",\n",
    "           \"yoga_a\", \"exphappy_a\",\n",
    "           \"go_out_b\", \"sports_b\", \"tvsports_b\", \"exercise_b\", \"dining_b\", \"museums_b\", \"art_b\", \"hiking_b\", \"gaming_b\",\n",
    "           \"clubbing_b\", \"reading_b\", \"tv_b\", \"theater_b\", \"movies_b\", \"concerts_b\", \"music_b\", \"shopping_b\",\n",
    "           \"yoga_b\", \"exphappy_b\"]\n",
    "\n",
    "difference_hobbies = [\"go_out_df\", \"sports_df\", \"tvsports_df\", \"exercise_df\", \"dining_df\", \"museums_df\", \"art_df\", \"hiking_df\", \"gaming_df\",\n",
    "           \"clubbing_df\", \"reading_df\", \"tv_df\", \"theater_df\", \"movies_df\", \"concerts_df\", \"music_df\", \"shopping_df\", \"yoga_df\", \"exphappy_df\"]\n",
    "\n",
    "looking_for = [\"attr1_1_a\", \"sinc1_1_a\", \"intel1_1_a\", \"fun1_1_a\", \"amb1_1_a\", \"imprace_a\", \"imprelig_a\",\n",
    "\"attr1_1_b\", \"sinc1_1_b\", \"intel1_1_b\", \"fun1_1_b\", \"amb1_1_b\", \"imprace_b\", \"imprelig_b\"]\n",
    "\n",
    "self_rating = [ \"attr3_1_a\", \"sinc3_1_a\", \"intel3_1_a\", \"fun3_1_a\", \"amb3_1_a\", \"attr3_1_b\", \"sinc3_1_b\", \"intel3_1_b\", \"fun3_1_b\", \"amb3_1_b\"]\n",
    "\n",
    "# difference between what person a i slooking for b what person a rates themselves 1_1_a and 3_1_b\n",
    "difference = [\"attr_b_a\", \"sinc_b_a\", \"intel_b_a\", \"fun_b_a\", \"amb_b_a\", \"attr_a_b\", \"sinc_a_b\", \"intel_a_b\", \"fun_a_b\", \"amb_a_b\"]\n",
    "\n",
    "variations = [\"var_undergrad\", \"var_budget\", \"var_diff_mc\", \"var_mag\", \"var_book\"]\n",
    "\n",
    "to_drop = [\"date_id_a\", \"date_id_b\", \"wave_a\", \"wave_b\", 'Unnamed: 0', \"latitude_a\", \"latitude_b\", \"longitude_a\", \"longitude_b\", \"distance\", \"from_a\", \"from_b\", \"zipcode_a\", \"zipcode_b\"] #TODO clean text in from column\n",
    "\n",
    "to_keep = personal_info + identifiers  + behaviour + self_rating + looking_for#+ difference_hobbies + difference\n",
    "\n",
    "categorical = [\"income_a\", \"income_b\", \"distance_bin\", \"zipcode_area_b\", \"zipcode_area_a\"]"
   ]
  },
  {
   "cell_type": "code",
   "execution_count": null,
   "metadata": {},
   "outputs": [],
   "source": [
    "# read in data\n",
    "df = pd.read_csv(\"../data/interim/single_row_date.csv\")\n",
    "df = df[to_keep]\n",
    "\n",
    "#df.drop(to_drop, axis = 1, inplace = True)\n",
    "df.drop([\"date_id_a\", \"date_id_b\"], axis = 1, inplace = True)\n"
   ]
  },
  {
   "cell_type": "code",
   "execution_count": null,
   "metadata": {},
   "outputs": [
    {
     "data": {
      "text/plain": [
       "0.834248455730954"
      ]
     },
     "execution_count": 122,
     "metadata": {},
     "output_type": "execute_result"
    }
   ],
   "source": [
    "x = df.match_a.value_counts()\n",
    "x[0]/(x[0]+x[1])"
   ]
  },
  {
   "cell_type": "code",
   "execution_count": null,
   "metadata": {},
   "outputs": [],
   "source": [
    "df[\"zipcode_area_b\"] = df[\"zipcode_area_b\"].replace(\"Not\", 0)\n",
    "df[\"zipcode_area_a\"] = df[\"zipcode_area_a\"].replace(\"Not\", 0)"
   ]
  },
  {
   "cell_type": "code",
   "execution_count": null,
   "metadata": {},
   "outputs": [],
   "source": [
    "df = pd.get_dummies(df, columns = categorical)"
   ]
  },
  {
   "cell_type": "code",
   "execution_count": null,
   "metadata": {},
   "outputs": [],
   "source": [
    "# find columns with missing vlaues and remove rows with missing vlaues\n",
    "df.columns[df.isnull().any()].tolist()\n",
    "df.isnull().sum().sort_values(ascending=False).head(10)\n",
    "df.dropna(inplace=True)"
   ]
  },
  {
   "cell_type": "code",
   "execution_count": null,
   "metadata": {},
   "outputs": [],
   "source": [
    "X = df[[column for column in df.columns if column!=\"match_a\"]]\n",
    "y = df[\"match_a\"]\n",
    "X"
   ]
  },
  {
   "cell_type": "code",
   "execution_count": null,
   "metadata": {},
   "outputs": [
    {
     "name": "stdout",
     "output_type": "stream",
     "text": [
      "(2000, 313) (2000,)\n",
      "(858, 313) (858,)\n"
     ]
    }
   ],
   "source": [
    "X_train, X_test, y_train, y_test = train_test_split(\n",
    "    X, y, random_state=42, test_size=0.30, stratify=y, shuffle=True\n",
    ")\n",
    "\n",
    "print(X_train.shape, y_train.shape)\n",
    "print(X_test.shape, y_test.shape)"
   ]
  },
  {
   "cell_type": "code",
   "execution_count": null,
   "metadata": {},
   "outputs": [],
   "source": [
    "k = X_train.shape[1]\n",
    "\n",
    "# select k most important features\n",
    "# To start with we'll look at them all\n",
    "X_train_fs, X_test_fs, all_vars, ns_df_sorted = pp.select_features(X_train, y_train, X_test, k=100, df=X)"
   ]
  },
  {
   "cell_type": "code",
   "execution_count": null,
   "metadata": {},
   "outputs": [
    {
     "data": {
      "text/html": [
       "<div>\n",
       "<style scoped>\n",
       "    .dataframe tbody tr th:only-of-type {\n",
       "        vertical-align: middle;\n",
       "    }\n",
       "\n",
       "    .dataframe tbody tr th {\n",
       "        vertical-align: top;\n",
       "    }\n",
       "\n",
       "    .dataframe thead th {\n",
       "        text-align: right;\n",
       "    }\n",
       "</style>\n",
       "<table border=\"1\" class=\"dataframe\">\n",
       "  <thead>\n",
       "    <tr style=\"text-align: right;\">\n",
       "      <th></th>\n",
       "      <th>Feat_names</th>\n",
       "      <th>F_Scores</th>\n",
       "    </tr>\n",
       "  </thead>\n",
       "  <tbody>\n",
       "    <tr>\n",
       "      <th>28</th>\n",
       "      <td>zipcode_area_b_246</td>\n",
       "      <td>20.024024</td>\n",
       "    </tr>\n",
       "    <tr>\n",
       "      <th>70</th>\n",
       "      <td>zipcode_area_a_483</td>\n",
       "      <td>17.631713</td>\n",
       "    </tr>\n",
       "    <tr>\n",
       "      <th>80</th>\n",
       "      <td>zipcode_area_a_767</td>\n",
       "      <td>16.133596</td>\n",
       "    </tr>\n",
       "    <tr>\n",
       "      <th>34</th>\n",
       "      <td>zipcode_area_b_483</td>\n",
       "      <td>16.108355</td>\n",
       "    </tr>\n",
       "    <tr>\n",
       "      <th>8</th>\n",
       "      <td>income_a_89998.0 and 99998.0</td>\n",
       "      <td>15.024025</td>\n",
       "    </tr>\n",
       "    <tr>\n",
       "      <th>61</th>\n",
       "      <td>zipcode_area_a_189</td>\n",
       "      <td>11.582873</td>\n",
       "    </tr>\n",
       "    <tr>\n",
       "      <th>64</th>\n",
       "      <td>zipcode_area_a_220</td>\n",
       "      <td>9.824669</td>\n",
       "    </tr>\n",
       "    <tr>\n",
       "      <th>71</th>\n",
       "      <td>zipcode_area_a_488</td>\n",
       "      <td>8.467179</td>\n",
       "    </tr>\n",
       "    <tr>\n",
       "      <th>51</th>\n",
       "      <td>zipcode_area_b_928</td>\n",
       "      <td>8.270562</td>\n",
       "    </tr>\n",
       "    <tr>\n",
       "      <th>41</th>\n",
       "      <td>zipcode_area_b_770</td>\n",
       "      <td>8.154189</td>\n",
       "    </tr>\n",
       "    <tr>\n",
       "      <th>0</th>\n",
       "      <td>field_cd_a</td>\n",
       "      <td>8.094919</td>\n",
       "    </tr>\n",
       "    <tr>\n",
       "      <th>6</th>\n",
       "      <td>income_a_59998.0 and 69998.0</td>\n",
       "      <td>7.334792</td>\n",
       "    </tr>\n",
       "    <tr>\n",
       "      <th>25</th>\n",
       "      <td>zipcode_area_b_194</td>\n",
       "      <td>6.928633</td>\n",
       "    </tr>\n",
       "    <tr>\n",
       "      <th>44</th>\n",
       "      <td>zipcode_area_b_787</td>\n",
       "      <td>6.576501</td>\n",
       "    </tr>\n",
       "    <tr>\n",
       "      <th>73</th>\n",
       "      <td>zipcode_area_a_605</td>\n",
       "      <td>6.411532</td>\n",
       "    </tr>\n",
       "  </tbody>\n",
       "</table>\n",
       "</div>"
      ],
      "text/plain": [
       "                      Feat_names   F_Scores\n",
       "28            zipcode_area_b_246  20.024024\n",
       "70            zipcode_area_a_483  17.631713\n",
       "80            zipcode_area_a_767  16.133596\n",
       "34            zipcode_area_b_483  16.108355\n",
       "8   income_a_89998.0 and 99998.0  15.024025\n",
       "61            zipcode_area_a_189  11.582873\n",
       "64            zipcode_area_a_220   9.824669\n",
       "71            zipcode_area_a_488   8.467179\n",
       "51            zipcode_area_b_928   8.270562\n",
       "41            zipcode_area_b_770   8.154189\n",
       "0                     field_cd_a   8.094919\n",
       "6   income_a_59998.0 and 69998.0   7.334792\n",
       "25            zipcode_area_b_194   6.928633\n",
       "44            zipcode_area_b_787   6.576501\n",
       "73            zipcode_area_a_605   6.411532"
      ]
     },
     "execution_count": 129,
     "metadata": {},
     "output_type": "execute_result"
    }
   ],
   "source": [
    "ns_df_sorted.head(15)"
   ]
  },
  {
   "cell_type": "code",
   "execution_count": null,
   "metadata": {},
   "outputs": [
    {
     "name": "stdout",
     "output_type": "stream",
     "text": [
      "accuracy: 0.8368298368298368\n",
      "f1_score: 0.26315789473684215\n"
     ]
    },
    {
     "data": {
      "image/png": "[encoded data removed]",
      "text/plain": [
       "<Figure size 640x480 with 2 Axes>"
      ]
     },
     "metadata": {},
     "output_type": "display_data"
    }
   ],
   "source": [
    "# logistic regression without feature selection\n",
    "log_reg = pp.log_reg(X_train, y_train, X_test, y_test, X.columns)\n",
    "print(\"accuracy:\", log_reg[\"accuracy\"])\n",
    "print(\"f1_score:\", log_reg[\"F1_score\"])"
   ]
  },
  {
   "cell_type": "code",
   "execution_count": null,
   "metadata": {},
   "outputs": [
    {
     "name": "stdout",
     "output_type": "stream",
     "text": [
      "accuracy: 0.8508158508158508\n",
      "f1_score: 0.21951219512195125\n"
     ]
    },
    {
     "data": {
      "image/png": "[encoded data removed]",
      "text/plain": [
       "<Figure size 640x480 with 2 Axes>"
      ]
     },
     "metadata": {},
     "output_type": "display_data"
    }
   ],
   "source": [
    "# logistic regression with feature selection\n",
    "log_reg = pp.log_reg(X_train_fs, y_train, X_test_fs, y_test, X.columns)\n",
    "print(\"accuracy:\", log_reg[\"accuracy\"])\n",
    "print(\"f1_score:\", log_reg[\"F1_score\"])"
   ]
  },
  {
   "cell_type": "code",
   "execution_count": null,
   "metadata": {},
   "outputs": [],
   "source": [
    "train_df = X_train.copy()\n",
    "train_df[\"match_a\"] = y_train"
   ]
  },
  {
   "cell_type": "code",
   "execution_count": null,
   "metadata": {},
   "outputs": [],
   "source": [
    "# looking for best performing upsample multiplier\n",
    "# for m in [1.2, 1.5, 1.7, 2, 2.2, 2.5, 2.7, 3, 3.2, 3.5, 3.7, 4]:\n",
    "#     print(\"Upsample multiplier: \", m)\n",
    "#     pp.resample_data(train_df, m, X_test, y_test, LogisticRegression(random_state=42, max_iter= 10000))"
   ]
  },
  {
   "cell_type": "code",
   "execution_count": null,
   "metadata": {},
   "outputs": [
    {
     "name": "stdout",
     "output_type": "stream",
     "text": [
      "X_train shape is:  (2733, 313) X_train shape is:  (2733,)\n",
      "Precision: 0.3068181818181818\n",
      "Recall: 0.3776223776223776\n",
      "Accuracy: 0.754079254079254\n",
      "F1 Score: 0.33855799373040757\n"
     ]
    },
    {
     "data": {
      "text/html": [
       "<style>#sk-container-id-8 {color: black;background-color: white;}#sk-container-id-8 pre{padding: 0;}#sk-container-id-8 div.sk-toggleable {background-color: white;}#sk-container-id-8 label.sk-toggleable__label {cursor: pointer;display: block;width: 100%;margin-bottom: 0;padding: 0.3em;box-sizing: border-box;text-align: center;}#sk-container-id-8 label.sk-toggleable__label-arrow:before {content: \"▸\";float: left;margin-right: 0.25em;color: #696969;}#sk-container-id-8 label.sk-toggleable__label-arrow:hover:before {color: black;}#sk-container-id-8 div.sk-estimator:hover label.sk-toggleable__label-arrow:before {color: black;}#sk-container-id-8 div.sk-toggleable__content {max-height: 0;max-width: 0;overflow: hidden;text-align: left;background-color: #f0f8ff;}#sk-container-id-8 div.sk-toggleable__content pre {margin: 0.2em;color: black;border-radius: 0.25em;background-color: #f0f8ff;}#sk-container-id-8 input.sk-toggleable__control:checked~div.sk-toggleable__content {max-height: 200px;max-width: 100%;overflow: auto;}#sk-container-id-8 input.sk-toggleable__control:checked~label.sk-toggleable__label-arrow:before {content: \"▾\";}#sk-container-id-8 div.sk-estimator input.sk-toggleable__control:checked~label.sk-toggleable__label {background-color: #d4ebff;}#sk-container-id-8 div.sk-label input.sk-toggleable__control:checked~label.sk-toggleable__label {background-color: #d4ebff;}#sk-container-id-8 input.sk-hidden--visually {border: 0;clip: rect(1px 1px 1px 1px);clip: rect(1px, 1px, 1px, 1px);height: 1px;margin: -1px;overflow: hidden;padding: 0;position: absolute;width: 1px;}#sk-container-id-8 div.sk-estimator {font-family: monospace;background-color: #f0f8ff;border: 1px dotted black;border-radius: 0.25em;box-sizing: border-box;margin-bottom: 0.5em;}#sk-container-id-8 div.sk-estimator:hover {background-color: #d4ebff;}#sk-container-id-8 div.sk-parallel-item::after {content: \"\";width: 100%;border-bottom: 1px solid gray;flex-grow: 1;}#sk-container-id-8 div.sk-label:hover label.sk-toggleable__label {background-color: #d4ebff;}#sk-container-id-8 div.sk-serial::before {content: \"\";position: absolute;border-left: 1px solid gray;box-sizing: border-box;top: 0;bottom: 0;left: 50%;z-index: 0;}#sk-container-id-8 div.sk-serial {display: flex;flex-direction: column;align-items: center;background-color: white;padding-right: 0.2em;padding-left: 0.2em;position: relative;}#sk-container-id-8 div.sk-item {position: relative;z-index: 1;}#sk-container-id-8 div.sk-parallel {display: flex;align-items: stretch;justify-content: center;background-color: white;position: relative;}#sk-container-id-8 div.sk-item::before, #sk-container-id-8 div.sk-parallel-item::before {content: \"\";position: absolute;border-left: 1px solid gray;box-sizing: border-box;top: 0;bottom: 0;left: 50%;z-index: -1;}#sk-container-id-8 div.sk-parallel-item {display: flex;flex-direction: column;z-index: 1;position: relative;background-color: white;}#sk-container-id-8 div.sk-parallel-item:first-child::after {align-self: flex-end;width: 50%;}#sk-container-id-8 div.sk-parallel-item:last-child::after {align-self: flex-start;width: 50%;}#sk-container-id-8 div.sk-parallel-item:only-child::after {width: 0;}#sk-container-id-8 div.sk-dashed-wrapped {border: 1px dashed gray;margin: 0 0.4em 0.5em 0.4em;box-sizing: border-box;padding-bottom: 0.4em;background-color: white;}#sk-container-id-8 div.sk-label label {font-family: monospace;font-weight: bold;display: inline-block;line-height: 1.2em;}#sk-container-id-8 div.sk-label-container {text-align: center;}#sk-container-id-8 div.sk-container {/* jupyter's `normalize.less` sets `[hidden] { display: none; }` but bootstrap.min.css set `[hidden] { display: none !important; }` so we also need the `!important` here to be able to override the default hidden behavior on the sphinx rendered scikit-learn.org. See: https://github.com/scikit-learn/scikit-learn/issues/21755 */display: inline-block !important;position: relative;}#sk-container-id-8 div.sk-text-repr-fallback {display: none;}</style><div id=\"sk-container-id-8\" class=\"sk-top-container\"><div class=\"sk-text-repr-fallback\"><pre>LogisticRegression(max_iter=10000, random_state=42)</pre><b>In a Jupyter environment, please rerun this cell to show the HTML representation or trust the notebook. <br />On GitHub, the HTML representation is unable to render, please try loading this page with nbviewer.org.</b></div><div class=\"sk-container\" hidden><div class=\"sk-item\"><div class=\"sk-estimator sk-toggleable\"><input class=\"sk-toggleable__control sk-hidden--visually\" id=\"sk-estimator-id-8\" type=\"checkbox\" checked><label for=\"sk-estimator-id-8\" class=\"sk-toggleable__label sk-toggleable__label-arrow\">LogisticRegression</label><div class=\"sk-toggleable__content\"><pre>LogisticRegression(max_iter=10000, random_state=42)</pre></div></div></div></div></div>"
      ],
      "text/plain": [
       "LogisticRegression(max_iter=10000, random_state=42)"
      ]
     },
     "execution_count": 134,
     "metadata": {},
     "output_type": "execute_result"
    },
    {
     "data": {
      "image/png": "[encoded data removed]",
      "text/plain": [
       "<Figure size 640x480 with 2 Axes>"
      ]
     },
     "metadata": {},
     "output_type": "display_data"
    }
   ],
   "source": [
    "pp.resample_data(train_df, 3.2, X_test, y_test, LogisticRegression(random_state=42, max_iter= 10000))"
   ]
  }
 ],
 "metadata": {
  "kernelspec": {
   "display_name": "speed_date_env",
   "language": "python",
   "name": "python3"
  },
  "language_info": {
   "codemirror_mode": {
    "name": "ipython",
    "version": 3
   },
   "file_extension": ".py",
   "mimetype": "text/x-python",
   "name": "python",
   "nbconvert_exporter": "python",
   "pygments_lexer": "ipython3",
   "version": "3.10.9"
  },
  "orig_nbformat": 4,
  "vscode": {
   "interpreter": {
    "hash": "152dae51d345ad1156800798093e8c9ddd454684d6e102f640f55bcab3f3eb11"
   }
  }
 },
 "nbformat": 4,
 "nbformat_minor": 2
}
